{
 "cells": [
  {
   "cell_type": "code",
   "execution_count": null,
   "metadata": {},
   "outputs": [],
   "source": [
    "#Importa os ativos e a quantidade de ativos que você tem em sua carteira (o que tem em sua planilha \"Carteira.xlsx\")\n",
    "\n",
    "import pandas as pd \n",
    "\n",
    "carteira = pd.read_excel('Carteira.xlsx')\n",
    "display(carteira)"
   ]
  },
  {
   "cell_type": "code",
   "execution_count": null,
   "metadata": {},
   "outputs": [],
   "source": [
    "#Código para calcular o valor total dos ativos de acordo com a quantidade\n",
    "\n",
    "from alpha_vantage.timeseries import TimeSeries\n",
    "chave_api = \n",
    "\n",
    "ts = TimeSeries(key=chave_api, output_format='pandas')\n",
    "data_inicial = input('Digite a data de compra do ativo (YYYY-MM-DD): ')\n",
    "\n",
    "tabelas_acoes = {}\n",
    "for ativo in carteira['Ativos']:\n",
    "    data, meta_data = ts.get_daily(f\"{ativo}.SAO\", outputsize='compact')\n",
    "    tabelas_acoes[ativo] = data\n",
    "    carteira.loc[carteira['Ativos'] == ativo, \"Valor\"] = carteira.loc[carteira['Ativos'] == ativo, \"Qtde\"] * data.loc[data_inicial, \"4. close\"]\n",
    "display(carteira)"
   ]
  },
  {
   "cell_type": "code",
   "execution_count": null,
   "metadata": {},
   "outputs": [],
   "source": [
    "# Código para consultar o código da ação por empresa\n",
    "\n",
    "from alpha_vantage.timeseries import TimeSeries\n",
    "chave_api = \n",
    "import time\n",
    "ativo = input('Digite o nome da empresa: ')\n",
    "ts = TimeSeries(key=chave_api, output_format='pandas')\n",
    "data, meta_data = ts.get_symbol_search(f\"{ativo}\")\n",
    "display(data[['1. symbol', '2. name', '4. region']])"
   ]
  },
  {
   "cell_type": "code",
   "execution_count": null,
   "metadata": {},
   "outputs": [],
   "source": [
    "# Retorno de seus ativos de acordo com a data de venda\n",
    "\n",
    "from alpha_vantage.timeseries import TimeSeries\n",
    "chave_api = \n",
    "import time\n",
    "ts = TimeSeries(key=chave_api, output_format='pandas')\n",
    "data_inicial = input('Digite a data de compra do ativo (YYYY-MM-DD): ')\n",
    "data_final = input('Digite a data de venda do ativo (YYYY-MM-DD): ')\n",
    "\n",
    "tabelas_acoes = {}\n",
    "for ativo in carteira['Ativos']:\n",
    "    data, meta_data = ts.get_daily(f\"{ativo}.SAO\", outputsize='compact')\n",
    "    time.sleep(1)\n",
    "    tabelas_acoes[ativo] = data\n",
    "    carteira.loc[carteira['Ativos'] == ativo, \"Valor\"] = carteira.loc[carteira['Ativos'] == ativo, \"Qtde\"] * data.loc[data_inicial, \"4. close\"] - carteira.loc[carteira['Ativos'] == ativo, \"Qtde\"] * data.loc[data_final, \"4. close\"]\n",
    "display(carteira)"
   ]
  },
  {
   "cell_type": "code",
   "execution_count": null,
   "metadata": {},
   "outputs": [],
   "source": [
    "# Retorno do ativo escolhido (desde o início)\n",
    "Data, meta_data = ts.get_daily(\"BOVA11.SAO\", outputsize='full')\n",
    "ibov = data\n",
    "display(ibov)"
   ]
  },
  {
   "cell_type": "code",
   "execution_count": null,
   "metadata": {},
   "outputs": [],
   "source": [
    "# Abre um gráfico sobre o rendimento da ação escolhida\n",
    "\n",
    "from alpha_vantage.timeseries import TimeSeries\n",
    "chave_api =  \n",
    "import time\n",
    "ativo = input('Digite o código do ativo: ')\n",
    "data_inicial = input('Digite a data inicial do ativo (YYYY-MM): ')\n",
    "data_final = input('Digite a data final do ativo (YYYY-MM): ')\n",
    "ts = TimeSeries(key=chave_api, output_format='pandas')\n",
    "data, meta_data = ts.get_daily(f\"{ativo}.SAO\", outputsize='full')\n",
    "ativoescolhido = data\n",
    "ativoescolhido = ativoescolhido.loc[data_inicial:data_final, \"4. close\"]\n",
    "ativoescolhido.plot()"
   ]
  },
  {
   "cell_type": "code",
   "execution_count": null,
   "metadata": {},
   "outputs": [],
   "source": [
    "# Este código deveria mostrar o resultado pós-venda\n",
    "tabelas_cotacoes = pd.DataFrame()\n",
    "data_inicial = input('Digite a data de compra do ativo (YYYY-MM-DD): ')\n",
    "data_final = input('Digite a data de venda do ativo (YYYY-MM-DD): ')\n",
    "for ativo in tabelas_acoes:\n",
    "    tabelas_cotacoes[ativo] = tabelas_acoes[ativo].loc[data_final:data_inicial, \"4. close\"]\n",
    "display(tabelas_cotacoes)\n",
    "#código com erro"
   ]
  },
  {
   "cell_type": "code",
   "execution_count": null,
   "metadata": {},
   "outputs": [],
   "source": [
    "tabelas_cotacoes[\"Total\"] = tabelas_cotacoes.sum(axis=1)\n",
    "display(tabelas_cotacoes)"
   ]
  },
  {
   "cell_type": "code",
   "execution_count": null,
   "metadata": {},
   "outputs": [],
   "source": [
    "# Cria um gráfico com a comparação da sua carteira em relação ao Bovespa\n",
    "carteira_ajustada = tabelas_cotacoes[\"Total\"] / tabelas_cotacoes[\"Total\"].iloc[-1]\n",
    "ibov_ajustado = ibov / ibov.iloc[-1]\n",
    "import matplotlib.pyplot as plt\n",
    "\n",
    "carteira_ajustada.plot(label=\"Carteira Ajustada\")\n",
    "ibov_ajustado.plot(label=\"IBOV Ajustado\")\n",
    "plt.legend()\n",
    "plt.show()\n",
    "\n",
    "# código com erro"
   ]
  }
 ],
 "metadata": {
  "kernelspec": {
   "display_name": "Python 3.10.5 64-bit",
   "language": "python",
   "name": "python3"
  },
  "language_info": {
   "codemirror_mode": {
    "name": "ipython",
    "version": 3
   },
   "file_extension": ".py",
   "mimetype": "text/x-python",
   "name": "python",
   "nbconvert_exporter": "python",
   "pygments_lexer": "ipython3",
   "version": "3.10.5"
  },
  "orig_nbformat": 4,
  "vscode": {
   "interpreter": {
    "hash": "37083a178839ddb6837eca99e3841ef7be6dad5dc50c6d19829e2187d61ddd5d"
   }
  }
 },
 "nbformat": 4,
 "nbformat_minor": 2
}
